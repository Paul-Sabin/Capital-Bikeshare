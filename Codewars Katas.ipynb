{
 "cells": [
  {
   "cell_type": "markdown",
   "metadata": {},
   "source": [
    "Valid Braces\n",
    "\n",
    "Write a function that takes a string of braces, and determines if the order of the braces is valid. It should return true if the string is valid, and false if it's invalid.\n",
    "\n",
    "This Kata is similar to the Valid Parentheses Kata, but introduces new characters: brackets [], and curly braces {}. Thanks to @arnedag for the idea!\n",
    "\n",
    "All input strings will be nonempty, and will only consist of parentheses, brackets and curly braces: ()[]{}.\n",
    "What is considered Valid?\n",
    "\n",
    "A string of braces is considered valid if all braces are matched with the correct brace."
   ]
  },
  {
   "cell_type": "code",
   "execution_count": 11,
   "metadata": {},
   "outputs": [
    {
     "name": "stdout",
     "output_type": "stream",
     "text": [
      "Checking sublist ([([])])\n",
      "Halves matched!\n",
      "Remaining bracket list: [{{[]}}]\n",
      "Checking sublist [{{[]}}]\n",
      "Halves matched!\n",
      "Remaining bracket list: \n"
     ]
    },
    {
     "data": {
      "text/plain": [
       "True"
      ]
     },
     "execution_count": 11,
     "metadata": {},
     "output_type": "execute_result"
    }
   ],
   "source": [
    "def valid_braces(string):\n",
    "    if len(string) %2 == 1:\n",
    "        print('Odd length')\n",
    "        return False\n",
    "    dic = {'(':')', '[':']', '{':'}'}\n",
    "    start_index = 0\n",
    "    for index in range(start_index, len(string)):\n",
    "        br = string[0]\n",
    "        sub_list = []\n",
    "        counter = 1\n",
    "        closer_counter = 1\n",
    "        sub_list.append(br)\n",
    "        if br not in dic:\n",
    "            print(f'Unexpected character {br}')\n",
    "            return False  \n",
    "        if dic[br] not in string:\n",
    "            print(f'{br} Bracket left open')\n",
    "            return False\n",
    "        while closer_counter > 0:\n",
    "            if string[counter] == dic[br]:\n",
    "                sub_list.append(string[counter]) \n",
    "                closer_counter -=1\n",
    "                # print(f'Closer_counter now down to {closer_counter}')\n",
    "                # print(f'Appended with closer {\"\".join(sub_list)}')\n",
    "                counter +=1\n",
    "            elif string[counter] == br:\n",
    "                # print(f'Bracket {br} is opened an additional time')\n",
    "                closer_counter +=1\n",
    "                # print(f'Closer_counter now up to {closer_counter}')\n",
    "                sub_list.append(string[counter]) # deleted index+\n",
    "                # print(f'Appended with opener: {\"\".join(sub_list)}')\n",
    "                counter +=1\n",
    "            else:    \n",
    "                sub_list.append(string[counter]) # deleted index+\n",
    "                # print(f'Appended with other: {\"\".join(sub_list)}')\n",
    "                counter +=1\n",
    "        print(f'Checking sublist {\"\".join(sub_list)}')\n",
    "        if len(sub_list) %2 == 1:\n",
    "            print('Odd length of sublist')\n",
    "            return False\n",
    "        # If not symmetrical, return False\n",
    "        first_half = sub_list[:len(sub_list)//2]\n",
    "        # print('First half:', first_half)\n",
    "        # print('Second half:', second_half)\n",
    "        for j, item in enumerate(first_half):\n",
    "            # XXXXXX\n",
    "            # print('item:', item)\n",
    "            if item not in dic:\n",
    "                print(f'Expected opening bracket but got {item}')\n",
    "                return False\n",
    "            # print('dic at item:', dic[item])\n",
    "            # print('index:', j)\n",
    "            # print('second half at index', sub_list[-1-j])\n",
    "\n",
    "            # print(f'Does {dic[item]} match with {sub_list[-1-j]}')\n",
    "            if dic[item] != sub_list[-1-j]:\n",
    "                # print('Asymmetrical substring halves')\n",
    "                print(f'{dic[item]} did not match with {sub_list[-1-j]}')\n",
    "                return False\n",
    "        string = string[counter:]\n",
    "        print('Halves matched!')\n",
    "        print(f'Remaining bracket list: {string}')    \n",
    "        if len(string) == 0:\n",
    "            return True   \n",
    "\n",
    "# valid_braces(\"(){}[]\")   #=>  True\n",
    "# valid_braces(\"([{}])\")   #=>  True\n",
    "# valid_braces(\"(}\")       #=>  False\n",
    "# valid_braces(\"[(]\")     #=>  False\n",
    "# valid_braces(\"(({{[[]]}}))\") #=>  True\n",
    "valid_braces('([([])])[{{[]}}]') #=>  True\n",
    "\n",
    "#valid_braces(\"[(])\") #=>  False\n",
    "\n"
   ]
  },
  {
   "cell_type": "markdown",
   "metadata": {},
   "source": [
    "Below is same solution, removed all print statements and comments for brevity"
   ]
  },
  {
   "cell_type": "code",
   "execution_count": 13,
   "metadata": {},
   "outputs": [
    {
     "data": {
      "text/plain": [
       "True"
      ]
     },
     "execution_count": 13,
     "metadata": {},
     "output_type": "execute_result"
    }
   ],
   "source": [
    "def valid_braces(string):\n",
    "    if len(string) %2 == 1:\n",
    "        return False\n",
    "    dic = {'(':')', '[':']', '{':'}'}\n",
    "    start_index = 0\n",
    "    for index in range(start_index, len(string)):\n",
    "        br = string[0]\n",
    "        sub_list = []\n",
    "        counter = 1\n",
    "        closer_counter = 1\n",
    "        sub_list.append(br)\n",
    "        if br not in dic:\n",
    "            return False  \n",
    "        if dic[br] not in string:\n",
    "            return False\n",
    "        while closer_counter > 0:\n",
    "            if string[counter] == dic[br]:\n",
    "                sub_list.append(string[counter]) \n",
    "                closer_counter -=1\n",
    "                counter +=1\n",
    "            elif string[counter] == br:\n",
    "                closer_counter +=1\n",
    "                sub_list.append(string[counter])\n",
    "                counter +=1\n",
    "            else:    \n",
    "                sub_list.append(string[counter])\n",
    "                counter +=1\n",
    "        if len(sub_list) %2 == 1:\n",
    "            return False\n",
    "        first_half = sub_list[:len(sub_list)//2]\n",
    "        for j, item in enumerate(first_half):\n",
    "            if item not in dic:\n",
    "                return False\n",
    "            if dic[item] != sub_list[-1-j]:\n",
    "                return False\n",
    "        string = string[counter:]  \n",
    "        if len(string) == 0:\n",
    "            return True   \n",
    "\n",
    "# valid_braces(\"(){}[]\")   #=>  True\n",
    "# valid_braces(\"([{}])\")   #=>  True\n",
    "# valid_braces(\"(}\")       #=>  False\n",
    "# valid_braces(\"[(]\")     #=>  False\n",
    "# valid_braces(\"(({{[[]]}}))\") #=>  True\n",
    "valid_braces('([([])])[{{[]}}]') #=>  True\n",
    "\n",
    "#valid_braces(\"[(])\") #=>  False\n",
    "\n"
   ]
  },
  {
   "cell_type": "markdown",
   "metadata": {},
   "source": [
    "Below we tried keeping a dictionary of all the counts, but it gets complicated because the brackets must appear in the dictionary in the order they occur"
   ]
  },
  {
   "cell_type": "code",
   "execution_count": null,
   "metadata": {},
   "outputs": [],
   "source": [
    "def valid_braces_2(string):\n",
    "    if len(string) %2 == 1:\n",
    "        print('Odd length')\n",
    "        return False\n",
    "    opening_brackets = {'(':')', '[':']', '{':'}'}\n",
    "    if string[0] not in opening_brackets:\n",
    "        print('Begins with closing bracket')\n",
    "        return False\n",
    "    while len(string) > 0:\n",
    "        # Entering brackets into dictionary until first bracket is closed\n",
    "        dic = {}\n",
    "        first_bracket = string[0] \n",
    "        for letter in string:\n",
    "            if letter != first_bracket:\n",
    "                second_bracket = letter\n",
    "                break\n",
    "        dic[first_bracket] = 1\n",
    "        counter = 1\n",
    "        while dic[first_bracket] != 0:\n",
    "            next_bracket = string[counter]\n",
    "            # If an active bracket is closed, decrease its count\n",
    "            if next_bracket in dic:\n",
    "                dic[next_bracket] -= 1\n",
    "                if dic[next_bracket] <0:\n",
    "                    print(f'{next_bracket} closed before opening')\n",
    "                    return False\n",
    "        \n",
    "            # If first bracket is double-opened, increase its count\n",
    "            if next_bracket == first_bracket:\n",
    "                dic[(string[0])] +=1\n",
    "                counter +=1\n",
    "            # If a different bracket is opened, add to dictionary    \n",
    "            elif next_bracket in opening_brackets:\n",
    "                dic[next_bracket] = 1\n",
    "                counter +=1\n",
    "            #         \n",
    "        print(dic)\n",
    "    \n",
    "valid_braces_2(\"(){}[]\")   #=>  True    "
   ]
  },
  {
   "cell_type": "code",
   "execution_count": null,
   "metadata": {},
   "outputs": [],
   "source": [
    "def valid_braces_3(string):\n",
    "    if len(string) %2 == 1:\n",
    "        print('Odd length')\n",
    "        return False\n",
    "    dic = {'(':')', '[':']', '{':'}'}\n",
    "    while len(string) > 0:\n",
    "        counter = 1\n",
    "        number_list = [1, 0, 0]\n",
    "        active_brackets = {}\n",
    "        if string[0] not in dic:\n",
    "            return False\n",
    "        active_brackets.append(string[0])\n",
    "        bracket1 = active_brackets[0]\n",
    "        # If it's never closed, return False\n",
    "        if dic[bracket1] not in string:\n",
    "            return False\n",
    "        # Loop until first bracket is closed\n",
    "        while number_list[0] != 0:\n",
    "            next_bracket = string[counter]\n",
    "            # If an active bracket is closed, decrease appropriate count\n",
    "            if next_bracket in active_brackets== dic[bracket1]:\n",
    "                number_list[0] -=1\n",
    "            elif next_bracket == dic[bracket2]:\n",
    "                number_list[1] -=1\n",
    "            elif next_bracket == dic[bracket3]:\n",
    "                number_list[2] -=1        \n",
    "            # If first bracket double-opened, increase 1st count    \n",
    "            elif next_bracket == bracket1:\n",
    "                number_list[0] +=1    \n",
    "            elif next_bracket == bracket2:\n",
    "                number_list[1] +=1   \n",
    "            elif next_bracket == bracket3:\n",
    "                number_list[2] +=1       \n",
    "            # If a 2nd bracket opened, increase 2nd count\n",
    "            elif next_bracket in dic:\n",
    "                number_list[1] +=1\n",
    "                bracket2 = next_bracket    \n",
    "        # Check that no other bracket type is open\n",
    "        if number_list[1] != 0 or number_list[2] != 0:   \n",
    "            return False    \n",
    "        # Truncate the string and repeat or exit when empty\n",
    "        string = string[counter:]\n",
    "    return True            \n",
    "\n",
    "valid_braces_3(\"()\")   #=>  True     \n",
    "([{]})             "
   ]
  },
  {
   "cell_type": "code",
   "execution_count": 102,
   "metadata": {},
   "outputs": [
    {
     "name": "stdout",
     "output_type": "stream",
     "text": [
      "Remaining string isthat\n",
      "0\n"
     ]
    }
   ],
   "source": [
    "str = 'fish'\n",
    "str = str[4:]\n",
    "print(f'Remaining string is{str}that')\n",
    "print(len(str))"
   ]
  }
 ],
 "metadata": {
  "kernelspec": {
   "display_name": "CAB",
   "language": "python",
   "name": "python3"
  },
  "language_info": {
   "codemirror_mode": {
    "name": "ipython",
    "version": 3
   },
   "file_extension": ".py",
   "mimetype": "text/x-python",
   "name": "python",
   "nbconvert_exporter": "python",
   "pygments_lexer": "ipython3",
   "version": "3.10.12"
  }
 },
 "nbformat": 4,
 "nbformat_minor": 2
}
