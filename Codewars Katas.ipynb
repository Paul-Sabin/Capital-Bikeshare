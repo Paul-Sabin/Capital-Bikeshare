{
 "cells": [
  {
   "cell_type": "markdown",
   "metadata": {},
   "source": [
    "Valid Braces"
   ]
  },
  {
   "cell_type": "code",
   "execution_count": 66,
   "metadata": {},
   "outputs": [
    {
     "name": "stdout",
     "output_type": "stream",
     "text": [
      "Checking sublist ['(', '(', '{', '{', '[', '[', ']', ']', '}', '}', ')']\n",
      "item: (\n",
      "dic at item: )\n",
      "index: 0\n",
      "second half at index )\n",
      "Does ) match with )\n",
      "item: (\n",
      "dic at item: )\n",
      "index: 1\n",
      "second half at index }\n",
      "Does ) match with }\n",
      "Asymmetrical substring halves\n",
      ") did not match with }\n"
     ]
    },
    {
     "data": {
      "text/plain": [
       "False"
      ]
     },
     "execution_count": 66,
     "metadata": {},
     "output_type": "execute_result"
    }
   ],
   "source": [
    "# Write a function that takes a string of braces, and determines if the order of the braces is valid. It should return true if the string is valid, and false if it's invalid.\n",
    "\n",
    "# This Kata is similar to the Valid Parentheses Kata, but introduces new characters: brackets [], and curly braces {}. Thanks to @arnedag for the idea!\n",
    "\n",
    "# All input strings will be nonempty, and will only consist of parentheses, brackets and curly braces: ()[]{}.\n",
    "# What is considered Valid?\n",
    "\n",
    "# A string of braces is considered valid if all braces are matched with the correct brace.\n",
    "# Examples\n",
    "\n",
    "def valid_braces(string):\n",
    "    if len(string) %2 == 1:\n",
    "        print('Odd length')\n",
    "        return False\n",
    "    br_list = list(string)\n",
    "    dic = {'(':')', '[':']', '{':'}'}\n",
    "    start_index = 0\n",
    "    for index in range(start_index, len(br_list)):\n",
    "        br = br_list[0]\n",
    "        sub_list = []\n",
    "        counter = 1\n",
    "        sub_list.append(br)\n",
    "        if br == '(':\n",
    "            closer = ')'\n",
    "        elif br == '[':\n",
    "            closer = ']'\n",
    "        elif br == '{':\n",
    "            closer = '}'   \n",
    "        else:\n",
    "            print(f'Unexpected character {br}')\n",
    "            return False  \n",
    "        if closer not in br_list:\n",
    "            print(f'{br} Bracket left open')\n",
    "            return False\n",
    "        while br_list[counter] != closer:\n",
    "            sub_list.append(br_list[counter]) # deleted index+\n",
    "            counter +=1\n",
    "        sub_list.append(br_list[counter]) # deleted index +\n",
    "        print(f'Checking sublist {sub_list}')\n",
    "        # If not symmetrical, return False\n",
    "        first_half = sub_list[:len(sub_list)//2]\n",
    "        # second_half = sub_list[len(sub_list)//2:]\n",
    "        # print('First half:', first_half)\n",
    "        # print('Second half:', second_half)\n",
    "        for j, item in enumerate(first_half):\n",
    "            # XXXXXX\n",
    "            print('item:', item)\n",
    "            if item not in dic:\n",
    "                print(f'Expected opening bracket but got {item}')\n",
    "                return False\n",
    "            print('dic at item:', dic[item])\n",
    "            print('index:', j)\n",
    "            print('second half at index', sub_list[-1-j])\n",
    "\n",
    "            print(f'Does {dic[item]} match with {sub_list[-1-j]}')\n",
    "            if dic[item] != sub_list[-1-j]:\n",
    "                print('Asymmetrical substring halves')\n",
    "                print(f'{dic[item]} did not match with {sub_list[-1-j]}')\n",
    "                return False\n",
    "        br_list = br_list[counter+1:]\n",
    "        print('Halves matched!')\n",
    "        print(f'Remaining bracket list: {br_list}')    \n",
    "        if len(br_list) == 0:\n",
    "            return True   \n",
    "\n",
    "# valid_braces(\"(){}[]\")   #=>  True\n",
    "# valid_braces(\"([{}])\")   #=>  True\n",
    "# valid_braces(\"(}\")       #=>  False\n",
    "# valid_braces(\"[(]\")     #=>  False\n",
    "valid_braces(\"(({{[[]]}}))\") #=>  False\n",
    "\n"
   ]
  }
 ],
 "metadata": {
  "kernelspec": {
   "display_name": "CAB",
   "language": "python",
   "name": "python3"
  },
  "language_info": {
   "codemirror_mode": {
    "name": "ipython",
    "version": 3
   },
   "file_extension": ".py",
   "mimetype": "text/x-python",
   "name": "python",
   "nbconvert_exporter": "python",
   "pygments_lexer": "ipython3",
   "version": "3.10.12"
  }
 },
 "nbformat": 4,
 "nbformat_minor": 2
}
