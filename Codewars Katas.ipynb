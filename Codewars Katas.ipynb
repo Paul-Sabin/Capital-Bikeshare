{
 "cells": [
  {
   "cell_type": "markdown",
   "metadata": {},
   "source": [
    "Valid Braces"
   ]
  },
  {
   "cell_type": "code",
   "execution_count": 14,
   "metadata": {},
   "outputs": [
    {
     "name": "stdout",
     "output_type": "stream",
     "text": [
      "(){\n",
      "}[]\n"
     ]
    }
   ],
   "source": [
    "# Write a function that takes a string of braces, and determines if the order of the braces is valid. It should return true if the string is valid, and false if it's invalid.\n",
    "\n",
    "# This Kata is similar to the Valid Parentheses Kata, but introduces new characters: brackets [], and curly braces {}. Thanks to @arnedag for the idea!\n",
    "\n",
    "# All input strings will be nonempty, and will only consist of parentheses, brackets and curly braces: ()[]{}.\n",
    "# What is considered Valid?\n",
    "\n",
    "# A string of braces is considered valid if all braces are matched with the correct brace.\n",
    "# Examples\n",
    "\n",
    "def valid_braces(string):\n",
    "    if len(string) %2 == 1:\n",
    "        return False\n",
    "    first_half = string[0:len(string)//2]\n",
    "    second_half = string[len(string)//2:]\n",
    "    print(first_half)\n",
    "    print(second_half)\n",
    "\n",
    "valid_braces('(){}[]')\n",
    "# \"(){}[]\"   =>  True\n",
    "# \"([{}])\"   =>  True\n",
    "# \"(}\"       =>  False\n",
    "# \"[(])\"     =>  False\n",
    "# \"[({})](]\" =>  False\n",
    "\n"
   ]
  }
 ],
 "metadata": {
  "kernelspec": {
   "display_name": "CAB",
   "language": "python",
   "name": "python3"
  },
  "language_info": {
   "codemirror_mode": {
    "name": "ipython",
    "version": 3
   },
   "file_extension": ".py",
   "mimetype": "text/x-python",
   "name": "python",
   "nbconvert_exporter": "python",
   "pygments_lexer": "ipython3",
   "version": "3.10.12"
  }
 },
 "nbformat": 4,
 "nbformat_minor": 2
}
